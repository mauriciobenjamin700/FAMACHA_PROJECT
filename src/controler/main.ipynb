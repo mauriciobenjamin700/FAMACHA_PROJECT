{
 "cells": [
  {
   "cell_type": "markdown",
   "metadata": {},
   "source": [
    "# Objetivos do projeto"
   ]
  },
  {
   "cell_type": "markdown",
   "metadata": {},
   "source": [
    "1. Criar um projeto completo de visão computacional\n",
    "    - O projeto deverá resolver algum problema real, de preferência o que já foi utilizado nos trabalhos anteriores;\n",
    "    - A metodologia do projeto deverá ser detalhada com todas as etapas necessárias: dados, pre-processamento, segmentação, extração de características, experimentos realizados, avaliação dos resultados.\n",
    "    - Será obrigatório o uso de Redes Neurais Convolucionais: Treinados do Zero, Pré-treinadas; e utilizando Fine-Tuning;\n",
    "2. A partir do projeto concluído, deverá ser elaborado um artigo de até 10 páginas.\n",
    "    - Deverá ser utilizado a template de artigos da SBC;\n",
    "    - O artigo deverá conter: introdução, trabalhos relacionados, metodologia, resultados e discussão, e conclusão;\n",
    "    - A metodologia deverá contar todos os detalhes necessários que garantam a reprodutibilidade do trabalho;\n",
    "    - Fluxogramas, gráficos, tabelas, resultados visuais (casos de acerto e falha) são essenciais no artigo;\n",
    "    - A discussão deverá elencar os motivos pelos quais o métodos chegou aos resultados apresentados. Além disso, essa seção deverá apresentar as principais limitações do trabalho desenvolvido.\n",
    "3. As apresentações dos trabalhos serão dia 07/02/2024.\n",
    "    - Cada aluno deverá criar uma apresentação de slides, simulando uma apresentação em um congresso;\n",
    "    - O apresentador terá até 10 min para apresentar seu trabalho, e a plateia terá até 5 min para realizar questionamentos.\n",
    "4. Todos os códigos deverão estar disponibilizados em algum sistema de controle de versão (GitHub, GitLab, etc.)\n",
    "5. Cada autor deverá informar para qual congresso irá enviar o trabalho."
   ]
  },
  {
   "cell_type": "code",
   "execution_count": null,
   "metadata": {},
   "outputs": [],
   "source": []
  }
 ],
 "metadata": {
  "language_info": {
   "name": "python"
  }
 },
 "nbformat": 4,
 "nbformat_minor": 2
}
