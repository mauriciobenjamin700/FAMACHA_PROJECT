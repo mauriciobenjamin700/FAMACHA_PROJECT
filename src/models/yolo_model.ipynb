{
 "cells": [
  {
   "cell_type": "code",
   "execution_count": null,
   "metadata": {},
   "outputs": [],
   "source": [
    "from ultralytics import YOLO\n"
   ]
  },
  {
   "cell_type": "code",
   "execution_count": null,
   "metadata": {},
   "outputs": [],
   "source": [
    "# Criando um modelo yolov8n do zero\n",
    "model = YOLO(model= 'yolov8n.yaml')"
   ]
  },
  {
   "cell_type": "code",
   "execution_count": null,
   "metadata": {},
   "outputs": [],
   "source": [
    "# Treinando o nosso modelo com o dataset previamente preparado usando a plataforma RoboFlow, se tiver GPU troque devide='cpu' para device=0\n",
    "results = model.train(data='/content/eye_membrane/data.yaml', epochs=30,patience=10,batch=-1,imgsz=640,device='cpu',project=\"FAMACHA\",pretrained=False,verbose=True,single_cls=True)"
   ]
  },
  {
   "cell_type": "code",
   "execution_count": null,
   "metadata": {},
   "outputs": [],
   "source": [
    "\n",
    "# Evaluate the model's performance on the validation set\n",
    "results = model.val()"
   ]
  },
  {
   "cell_type": "code",
   "execution_count": null,
   "metadata": {},
   "outputs": [],
   "source": [
    "#se não gostarmos dos nossos resultados podemos re treinar\n",
    "# Load a pretrained YOLO model (recommended for training)\n",
    "#model = YOLO('yolov8n.pt')"
   ]
  },
  {
   "cell_type": "code",
   "execution_count": null,
   "metadata": {},
   "outputs": [],
   "source": [
    "# se o treinamento não está rendendo podemos criar um novo e usar os pesos como base \n",
    "model = YOLO('yolov8n.yaml').load('yolov8n.pt')  # build from YAML and transfer weights"
   ]
  },
  {
   "cell_type": "code",
   "execution_count": null,
   "metadata": {},
   "outputs": [],
   "source": [
    "# Evaluate the model's performance on the validation set\n",
    "results = model.val()"
   ]
  }
 ],
 "metadata": {
  "language_info": {
   "name": "python"
  }
 },
 "nbformat": 4,
 "nbformat_minor": 2
}
